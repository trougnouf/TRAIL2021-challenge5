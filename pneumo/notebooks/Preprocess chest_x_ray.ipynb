{
 "cells": [
  {
   "cell_type": "markdown",
   "source": [
    "# Preprocessing of Chest X Ray\n",
    "Dataset download [link](https://nihcc.app.box.com/v/ChestXray-NIHCC/)"
   ],
   "metadata": {}
  },
  {
   "cell_type": "code",
   "execution_count": 1,
   "source": [
    "import os \n",
    "import glob\n",
    "import shutil\n",
    "import numpy as np\n",
    "from tqdm import tqdm\n",
    "import pandas as pd "
   ],
   "outputs": [],
   "metadata": {}
  },
  {
   "cell_type": "code",
   "execution_count": 3,
   "source": [
    "path_raw = '/home/these/DataFast/Dataset/chest_x_ray/'"
   ],
   "outputs": [],
   "metadata": {}
  },
  {
   "cell_type": "markdown",
   "source": [
    "### Split Train/Test"
   ],
   "metadata": {}
  },
  {
   "cell_type": "code",
   "execution_count": 3,
   "source": [
    "file = open(os.path.join(path_raw, 'train_val_list.txt'))\n",
    "train_list = file.read().split('\\n')\n",
    "train_list = np.asarray(train_list)"
   ],
   "outputs": [],
   "metadata": {}
  },
  {
   "cell_type": "raw",
   "source": [
    "for f in tqdm(train_list):\n",
    "    path_to_copy = os.path.join(path_raw, 'images', f)\n",
    "    path_to_destination = os.path.join(path_raw, 'single_label/train', f)\n",
    "    shutil.copy(path_to_copy, path_to_destination)    "
   ],
   "metadata": {}
  },
  {
   "cell_type": "code",
   "execution_count": 4,
   "source": [
    "file = open(os.path.join(path_raw, 'test_list.txt'))\n",
    "test_list = file.read().split('\\n')\n",
    "test_list = np.asarray(test_list)"
   ],
   "outputs": [],
   "metadata": {}
  },
  {
   "cell_type": "raw",
   "source": [
    "for f in tqdm(test_list):\n",
    "    path_to_copy = os.path.join(path_raw, 'images', f)\n",
    "    path_to_destination = os.path.join(path_raw, 'single_label/test', f)\n",
    "    shutil.copy(path_to_copy, path_to_destination)    "
   ],
   "metadata": {}
  },
  {
   "cell_type": "markdown",
   "source": [
    "### Split Classes"
   ],
   "metadata": {}
  },
  {
   "cell_type": "code",
   "execution_count": 11,
   "source": [
    "label = pd.read_csv(os.path.join(path_raw, 'Data_Entry_2017_v2020.csv'))\n",
    "\n",
    "classes = ['Atelectasis', 'Cardiomegaly', 'Consolidation', 'Edema', 'Effusion',\n",
    "           'Emphysema', 'Fibrosis', 'Hernia', 'Infiltration', 'Mass', 'No Finding',\n",
    "           'Nodule', 'Pleural_Thickening', 'Pneumonia', 'Pneumothorax']"
   ],
   "outputs": [],
   "metadata": {}
  },
  {
   "cell_type": "raw",
   "source": [
    "for c in classes:\n",
    "    path_file = os.path.join(path_raw, 'single_label', 'train', c)\n",
    "    os.mkdir(path_file)\n",
    "    path_file = os.path.join(path_raw, 'single_label', 'test', c)    \n",
    "    os.mkdir(path_file)"
   ],
   "metadata": {}
  },
  {
   "cell_type": "code",
   "execution_count": 11,
   "source": [
    "for l in tqdm(label.iterrows()):\n",
    "    if (train_list==l[1][0]).sum() == 1 :\n",
    "        if '|' not in l[1][1]:\n",
    "            path_to_destination = os.path.join(path_raw, 'single_label', 'train', l[1][1], l[1][0])\n",
    "            path_to_copy = os.path.join(path_raw, 'single_label', 'train', l[1][0])\n",
    "            shutil.copy(path_to_copy, path_to_destination)\n",
    "    elif (test_list==l[1][0]).sum() == 1:\n",
    "        if '|' not in l[1][1]:\n",
    "            path_to_destination = os.path.join(path_raw, 'single_label', 'test', l[1][1])\n",
    "            path_to_copy = os.path.join(path_raw, 'single_label', 'test', l[1][0])\n",
    "            shutil.copy(path_to_copy, path_to_destination)\n",
    "    else : \n",
    "        print('not found')    "
   ],
   "outputs": [
    {
     "output_type": "stream",
     "name": "stderr",
     "text": [
      "112120it [02:11, 852.06it/s]\n"
     ]
    }
   ],
   "metadata": {}
  },
  {
   "cell_type": "markdown",
   "source": [
    "# Preprocessing of Chest X Pert\n",
    "Dataset download [link](https://stanfordmlgroup.github.io/competitions/chexpert/)"
   ],
   "metadata": {}
  },
  {
   "cell_type": "code",
   "execution_count": 5,
   "source": [
    "import os \n",
    "import glob\n",
    "import shutil\n",
    "import numpy as np\n",
    "from tqdm import tqdm\n",
    "import pandas as pd "
   ],
   "outputs": [],
   "metadata": {}
  },
  {
   "cell_type": "code",
   "execution_count": 14,
   "source": [
    "path_raw = '/home/imagedpt/.cache/torch/mmf/data/archive/CheXpert-v1.0-small'\n"
   ],
   "outputs": [],
   "metadata": {}
  },
  {
   "cell_type": "code",
   "execution_count": 15,
   "source": [
    "for f in tqdm(os.listdir(os.path.join(path_raw, 'train/'))):\n",
    "    for s_dir in os.listdir(os.path.join(path_raw, 'train/', f)):\n",
    "        for im in glob.glob(os.path.join(path_raw, 'train/', f, s_dir, '*.jpg')):\n",
    "            path_to_copy = im\n",
    "            path_dest = os.path.join(path_raw, 'train/data/', f+'_'+im.split('/')[-1])\n",
    "            shutil.copy(path_to_copy, path_dest)"
   ],
   "outputs": [
    {
     "output_type": "stream",
     "name": "stderr",
     "text": [
      "100%|██████████| 64541/64541 [02:19<00:00, 461.44it/s]\n"
     ]
    }
   ],
   "metadata": {}
  },
  {
   "cell_type": "code",
   "execution_count": 16,
   "source": [
    "for f in tqdm(os.listdir(os.path.join(path_raw, 'valid/'))):\n",
    "    for s_dir in os.listdir(os.path.join(path_raw, 'valid/', f)):\n",
    "        for im in glob.glob(os.path.join(path_raw, 'valid/', f, s_dir, '*.jpg')):\n",
    "            path_to_copy = im\n",
    "            path_dest = os.path.join(path_raw, 'valid/data/', f+'_'+im.split('/')[-1])\n",
    "            shutil.copy(path_to_copy, path_dest)\n"
   ],
   "outputs": [
    {
     "output_type": "stream",
     "name": "stderr",
     "text": [
      "100%|██████████| 201/201 [00:00<00:00, 1511.00it/s]\n"
     ]
    }
   ],
   "metadata": {}
  }
 ],
 "metadata": {
  "kernelspec": {
   "name": "python3",
   "display_name": "Python 3.8.10 64-bit ('venv': venv)"
  },
  "language_info": {
   "codemirror_mode": {
    "name": "ipython",
    "version": 3
   },
   "file_extension": ".py",
   "mimetype": "text/x-python",
   "name": "python",
   "nbconvert_exporter": "python",
   "pygments_lexer": "ipython3",
   "version": "3.8.10"
  },
  "interpreter": {
   "hash": "cbf70fd050de8dfce0e2706dba5b3d5515f524aa403f774b7dc424dadb413a7e"
  }
 },
 "nbformat": 4,
 "nbformat_minor": 5
}