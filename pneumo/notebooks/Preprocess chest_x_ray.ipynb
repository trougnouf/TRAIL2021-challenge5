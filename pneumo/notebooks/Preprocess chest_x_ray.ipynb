{
 "cells": [
  {
   "cell_type": "markdown",
   "id": "7e6c84fa",
   "metadata": {},
   "source": [
    "# Preprocessing of Chest X Ray\n",
    "Dataset download [link](https://nihcc.app.box.com/v/ChestXray-NIHCC/)"
   ]
  },
  {
   "cell_type": "code",
   "execution_count": 1,
   "id": "ebae2dd0",
   "metadata": {},
   "outputs": [],
   "source": [
    "import os \n",
    "import shutil\n",
    "import numpy as np\n",
    "from tqdm import tqdm\n",
    "import pandas as pd "
   ]
  },
  {
   "cell_type": "code",
   "execution_count": 2,
   "id": "6d6c862a",
   "metadata": {},
   "outputs": [],
   "source": [
    "path_raw = '/home/imagedpt/.cache/torch/mmf/data/chest_x_ray'"
   ]
  },
  {
   "cell_type": "markdown",
   "id": "0f3d36ce",
   "metadata": {},
   "source": [
    "### Split Train/Test"
   ]
  },
  {
   "cell_type": "code",
   "execution_count": 3,
   "id": "6cceebc0",
   "metadata": {},
   "outputs": [],
   "source": [
    "file = open(os.path.join(path_raw, 'train_val_list.txt'))\n",
    "train_list = file.read().split('\\n')\n",
    "train_list = np.asarray(train_list)"
   ]
  },
  {
   "cell_type": "code",
   "execution_count": 4,
   "id": "8cd5a71d",
   "metadata": {},
   "outputs": [
    {
     "name": "stderr",
     "output_type": "stream",
     "text": [
      "100%|██████████████████████████████████████████████████████████████████████████████████████████████████████████████████████████████████| 86524/86524 [01:35<00:00, 907.42it/s]\n"
     ]
    }
   ],
   "source": [
    "for f in tqdm(train_list):\n",
    "    path_to_src = os.path.join(path_raw, 'images/images', f)\n",
    "    destination_dir = os.path.join(path_raw, 'single_label/train')\n",
    "    os.makedirs(destination_dir, exist_ok=True)\n",
    "    path_to_destination = os.path.join(path_raw, 'single_label/train', f)\n",
    "    shutil.copy(path_to_src, path_to_destination)    \n"
   ]
  },
  {
   "cell_type": "code",
   "execution_count": 5,
   "id": "fc7d7511",
   "metadata": {},
   "outputs": [],
   "source": [
    "file = open(os.path.join(path_raw, 'test_list.txt'))\n",
    "test_list = file.read().split('\\n')\n",
    "test_list = np.asarray(test_list)"
   ]
  },
  {
   "cell_type": "code",
   "execution_count": 6,
   "id": "d002353d",
   "metadata": {},
   "outputs": [
    {
     "name": "stderr",
     "output_type": "stream",
     "text": [
      "100%|██████████████████████████████████████████████████████████████████████████████████████████████████████████████████████████████████| 25596/25596 [00:29<00:00, 869.36it/s]\n"
     ]
    }
   ],
   "source": [
    "for f in tqdm(test_list):\n",
    "    path_to_copy = os.path.join(path_raw, 'images/images', f)\n",
    "    destination_dir = os.path.join(path_raw, 'single_label/test')\n",
    "    os.makedirs(destination_dir, exist_ok=True)\n",
    "    path_to_destination = os.path.join(path_raw, 'single_label/test', f)\n",
    "    shutil.copy(path_to_copy, path_to_destination)    \n"
   ]
  },
  {
   "cell_type": "markdown",
   "id": "4d87e0ba",
   "metadata": {},
   "source": [
    "### Split Classes"
   ]
  },
  {
   "cell_type": "code",
   "execution_count": 7,
   "id": "65cbe5b9",
   "metadata": {},
   "outputs": [],
   "source": [
    "label = pd.read_csv(os.path.join(path_raw, 'Data_Entry_2017_v2020.csv'))\n",
    "\n",
    "classes = ['Atelectasis', 'Cardiomegaly', 'Consolidation', 'Edema', 'Effusion',\n",
    "           'Emphysema', 'Fibrosis', 'Hernia', 'Infiltration', 'Mass', 'No Finding',\n",
    "           'Nodule', 'Pleural_Thickening', 'Pneumonia', 'Pneumothorax']"
   ]
  },
  {
   "cell_type": "code",
   "execution_count": 8,
   "id": "fd77edc8",
   "metadata": {},
   "outputs": [],
   "source": [
    "for c in classes:\n",
    "    path_file = os.path.join(path_raw, 'single_label', 'train', c)\n",
    "    os.mkdir(path_file)\n",
    "    path_file = os.path.join(path_raw, 'single_label', 'test', c)    \n",
    "    os.mkdir(path_file)"
   ]
  },
  {
   "cell_type": "code",
   "execution_count": 9,
   "id": "1d0322d4",
   "metadata": {},
   "outputs": [
    {
     "name": "stderr",
     "output_type": "stream",
     "text": [
      "112120it [03:02, 612.92it/s]\n"
     ]
    }
   ],
   "source": [
    "for l in tqdm(label.iterrows()):\n",
    "    if (train_list==l[1][0]).sum() == 1:\n",
    "        if '|' not in l[1][1]:\n",
    "            path_to_destination = os.path.join(path_raw, 'single_label', 'train', l[1][1], l[1][0])\n",
    "            path_to_copy = os.path.join(path_raw, 'single_label', 'train', l[1][0])\n",
    "            shutil.copy(path_to_copy, path_to_destination)\n",
    "            os.remove(path_to_copy)\n",
    "    elif (test_list==l[1][0]).sum() == 1:\n",
    "        if '|' not in l[1][1]:\n",
    "            path_to_destination = os.path.join(path_raw, 'single_label', 'test', l[1][1])\n",
    "            path_to_copy = os.path.join(path_raw, 'single_label', 'test', l[1][0])\n",
    "            shutil.copy(path_to_copy, path_to_destination)\n",
    "            os.remove(path_to_copy)\n",
    "    else : \n",
    "        print('not found')    "
   ]
  },
  {
   "cell_type": "markdown",
   "id": "cb7a0284",
   "metadata": {},
   "source": [
    "## Balance dataset"
   ]
  },
  {
   "cell_type": "code",
   "execution_count": 10,
   "id": "1f25565c",
   "metadata": {},
   "outputs": [
    {
     "name": "stderr",
     "output_type": "stream",
     "text": [
      "100%|██████████████████████████████████████████████████████████████████████████████████████████████████████████████████████████████████| 9861/9861 [00:00<00:00, 44819.03it/s]\n"
     ]
    },
    {
     "name": "stdout",
     "output_type": "stream",
     "text": [
      "Deleted 7261 files, kept 2600 ones.\n"
     ]
    },
    {
     "name": "stderr",
     "output_type": "stream",
     "text": [
      "100%|████████████████████████████████████████████████████████████████████████████████████████████████████████████████████████████████| 50500/50500 [00:00<00:00, 51212.43it/s]"
     ]
    },
    {
     "name": "stdout",
     "output_type": "stream",
     "text": [
      "Deleted 43000 files, kept 7500 ones.\n"
     ]
    },
    {
     "name": "stderr",
     "output_type": "stream",
     "text": [
      "\n"
     ]
    }
   ],
   "source": [
    "test_files = set(open(\"keep_test_files.txt\", \"r\").read().split(\"\\n\"))\n",
    "train_files = set(open(\"keep_train_files.txt\", \"r\").read().split(\"\\n\"))\n",
    "\n",
    "\n",
    "base_path = os.path.join(path_raw, \"single_label\", \"test\", \"No Finding\")\n",
    "deleted, kept = 0, 0\n",
    "for f in tqdm(os.listdir(base_path)):\n",
    "    if f not in test_files:\n",
    "        to_remove = os.path.join(base_path, f)\n",
    "        os.remove(to_remove)\n",
    "        deleted += 1\n",
    "    else:\n",
    "        kept +=1\n",
    "print(f\"Deleted {deleted} files, kept {kept} ones.\")\n",
    "\n",
    "\n",
    "base_path = os.path.join(path_raw, \"single_label\", \"train\", \"No Finding\")\n",
    "deleted, kept = 0, 0\n",
    "for f in tqdm(os.listdir(base_path)):\n",
    "    if f not in train_files:\n",
    "        to_remove = os.path.join(base_path, f)\n",
    "        os.remove(to_remove)\n",
    "        deleted += 1\n",
    "    else:\n",
    "        kept += 1\n",
    "print(f\"Deleted {deleted} files, kept {kept} ones.\")\n"
   ]
  }
 ],
 "metadata": {
  "interpreter": {
   "hash": "f934f2a1b45a150aa9526d8cacf5cc69af1c92d75864b4c48a1ed68e2bd5bc69"
  },
  "kernelspec": {
   "display_name": "Python 3 (ipykernel)",
   "language": "python",
   "name": "python3"
  },
  "language_info": {
   "codemirror_mode": {
    "name": "ipython",
    "version": 3
   },
   "file_extension": ".py",
   "mimetype": "text/x-python",
   "name": "python",
   "nbconvert_exporter": "python",
   "pygments_lexer": "ipython3",
   "version": "3.8.10"
  }
 },
 "nbformat": 4,
 "nbformat_minor": 5
}
