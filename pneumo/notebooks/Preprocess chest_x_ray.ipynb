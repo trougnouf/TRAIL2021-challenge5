{
 "cells": [
  {
   "cell_type": "markdown",
   "id": "cathedral-setup",
   "metadata": {},
   "source": [
    "# Preprocessing of Chest X Ray\n",
    "Dataset download [link](https://nihcc.app.box.com/v/ChestXray-NIHCC/)"
   ]
  },
  {
   "cell_type": "code",
   "execution_count": 1,
   "id": "every-deputy",
   "metadata": {},
   "outputs": [],
   "source": [
    "import os \n",
    "import glob\n",
    "import shutil\n",
    "import numpy as np\n",
    "from tqdm import tqdm\n",
    "import pandas as pd "
   ]
  },
  {
   "cell_type": "code",
   "execution_count": 3,
   "id": "moving-venture",
   "metadata": {},
   "outputs": [],
   "source": [
    "path_raw = '/home/these/DataFast/Dataset/chest_x_ray/'"
   ]
  },
  {
   "cell_type": "markdown",
   "id": "double-campbell",
   "metadata": {},
   "source": [
    "### Split Train/Test"
   ]
  },
  {
   "cell_type": "code",
   "execution_count": 3,
   "id": "endangered-championship",
   "metadata": {},
   "outputs": [],
   "source": [
    "file = open(os.path.join(path_raw, 'train_val_list.txt'))\n",
    "train_list = file.read().split('\\n')\n",
    "train_list = np.asarray(train_list)"
   ]
  },
  {
   "cell_type": "raw",
   "id": "sound-latest",
   "metadata": {},
   "source": [
    "for f in tqdm(train_list):\n",
    "    path_to_copy = os.path.join(path_raw, 'images', f)\n",
    "    path_to_destination = os.path.join(path_raw, 'single_label/train', f)\n",
    "    shutil.copy(path_to_copy, path_to_destination)    "
   ]
  },
  {
   "cell_type": "code",
   "execution_count": 4,
   "id": "detailed-merit",
   "metadata": {},
   "outputs": [],
   "source": [
    "file = open(os.path.join(path_raw, 'test_list.txt'))\n",
    "test_list = file.read().split('\\n')\n",
    "test_list = np.asarray(test_list)"
   ]
  },
  {
   "cell_type": "raw",
   "id": "surprising-airport",
   "metadata": {},
   "source": [
    "for f in tqdm(test_list):\n",
    "    path_to_copy = os.path.join(path_raw, 'images', f)\n",
    "    path_to_destination = os.path.join(path_raw, 'single_label/test', f)\n",
    "    shutil.copy(path_to_copy, path_to_destination)    "
   ]
  },
  {
   "cell_type": "markdown",
   "id": "designing-richmond",
   "metadata": {},
   "source": [
    "### Split Classes"
   ]
  },
  {
   "cell_type": "code",
   "execution_count": 11,
   "id": "bored-amino",
   "metadata": {},
   "outputs": [],
   "source": [
    "label = pd.read_csv(os.path.join(path_raw, 'Data_Entry_2017_v2020.csv'))\n",
    "\n",
    "classes = ['Atelectasis', 'Cardiomegaly', 'Consolidation', 'Edema', 'Effusion',\n",
    "           'Emphysema', 'Fibrosis', 'Hernia', 'Infiltration', 'Mass', 'No Finding',\n",
    "           'Nodule', 'Pleural_Thickening', 'Pneumonia', 'Pneumothorax']"
   ]
  },
  {
   "cell_type": "raw",
   "id": "stuck-diana",
   "metadata": {},
   "source": [
    "for c in classes:\n",
    "    path_file = os.path.join(path_raw, 'single_label', 'train', c)\n",
    "    os.mkdir(path_file)\n",
    "    path_file = os.path.join(path_raw, 'single_label', 'test', c)    \n",
    "    os.mkdir(path_file)"
   ]
  },
  {
   "cell_type": "code",
   "execution_count": 11,
   "id": "devoted-transsexual",
   "metadata": {},
   "outputs": [
    {
     "name": "stderr",
     "output_type": "stream",
     "text": [
      "112120it [02:11, 852.06it/s]\n"
     ]
    }
   ],
   "source": [
    "for l in tqdm(label.iterrows()):\n",
    "    if (train_list==l[1][0]).sum() == 1 :\n",
    "        if '|' not in l[1][1]:\n",
    "            path_to_destination = os.path.join(path_raw, 'single_label', 'train', l[1][1], l[1][0])\n",
    "            path_to_copy = os.path.join(path_raw, 'single_label', 'train', l[1][0])\n",
    "            shutil.copy(path_to_copy, path_to_destination)\n",
    "    elif (test_list==l[1][0]).sum() == 1:\n",
    "        if '|' not in l[1][1]:\n",
    "            path_to_destination = os.path.join(path_raw, 'single_label', 'test', l[1][1])\n",
    "            path_to_copy = os.path.join(path_raw, 'single_label', 'test', l[1][0])\n",
    "            shutil.copy(path_to_copy, path_to_destination)\n",
    "    else : \n",
    "        print('not found')    "
   ]
  },
  {
   "cell_type": "markdown",
   "id": "comparable-reply",
   "metadata": {},
   "source": [
    "# Preprocessing of Chest X Pert\n",
    "Dataset download [link](https://stanfordmlgroup.github.io/competitions/chexpert/)"
   ]
  },
  {
   "cell_type": "code",
   "execution_count": 3,
   "id": "broad-passport",
   "metadata": {},
   "outputs": [],
   "source": [
    "import os \n",
    "import glob\n",
    "import shutil\n",
    "import numpy as np\n",
    "from tqdm import tqdm\n",
    "import pandas as pd "
   ]
  },
  {
   "cell_type": "code",
   "execution_count": 5,
   "id": "authentic-physiology",
   "metadata": {},
   "outputs": [],
   "source": [
    "path_raw = '/home/these/DataFast/Dataset/chestXpert/'"
   ]
  },
  {
   "cell_type": "code",
   "execution_count": null,
   "id": "mexican-payday",
   "metadata": {},
   "outputs": [
    {
     "name": "stderr",
     "output_type": "stream",
     "text": [
      " 85%|████████▍ | 54609/64540 [00:21<00:14, 680.07it/s] "
     ]
    }
   ],
   "source": [
    "for f in tqdm(os.listdir(os.path.join(path_raw, 'CheXpert-v1.0-small/train/'))):\n",
    "    for s_dir in os.listdir(os.path.join(path_raw, 'CheXpert-v1.0-small/train/', f)):\n",
    "        for im in glob.glob(os.path.join(path_raw, 'CheXpert-v1.0-small/train/', f, s_dir, '*.jpg')):\n",
    "            path_to_copy = im\n",
    "            path_dest = os.path.join(path_raw, 'train/data/', f+'_'+im.split('/')[-1])\n",
    "            shutil.copy(path_to_copy, path_dest)"
   ]
  },
  {
   "cell_type": "code",
   "execution_count": null,
   "id": "harmful-madison",
   "metadata": {},
   "outputs": [
    {
     "name": "stderr",
     "output_type": "stream",
     "text": [
      "  8%|▊         | 5378/64540 [00:08<01:25, 695.97it/s]"
     ]
    }
   ],
   "source": [
    "for f in tqdm(os.listdir(os.path.join(path_raw, 'CheXpert-v1.0-small/valid/'))):\n",
    "    for s_dir in os.listdir(os.path.join(path_raw, 'CheXpert-v1.0-small/valid/', f)):\n",
    "        for im in glob.glob(os.path.join(path_raw, 'CheXpert-v1.0-small/valid/', f, s_dir, '*.jpg')):\n",
    "            path_to_copy = im\n",
    "            path_dest = os.path.join(path_raw, 'valid/data/', f+'_'+im.split('/')[-1])\n",
    "            shutil.copy(path_to_copy, path_dest)"
   ]
  }
 ],
 "metadata": {
  "kernelspec": {
   "display_name": "Python 3",
   "language": "python",
   "name": "python3"
  },
  "language_info": {
   "codemirror_mode": {
    "name": "ipython",
    "version": 3
   },
   "file_extension": ".py",
   "mimetype": "text/x-python",
   "name": "python",
   "nbconvert_exporter": "python",
   "pygments_lexer": "ipython3",
   "version": "3.8.5"
  }
 },
 "nbformat": 4,
 "nbformat_minor": 5
}
