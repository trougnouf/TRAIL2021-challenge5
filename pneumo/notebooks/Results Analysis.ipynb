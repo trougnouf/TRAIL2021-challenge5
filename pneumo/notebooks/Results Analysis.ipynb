{
 "cells": [
  {
   "cell_type": "markdown",
   "id": "vocal-glenn",
   "metadata": {},
   "source": [
    "# Results Analysis"
   ]
  },
  {
   "cell_type": "code",
   "execution_count": 1,
   "id": "dried-recommendation",
   "metadata": {},
   "outputs": [],
   "source": [
    "import torch\n",
    "from tqdm import tqdm\n",
    "from torch import nn\n",
    "from pl_bolts.models.self_supervised import SwAV\n",
    "\n",
    "device = torch.device(\"cuda\" if torch.cuda.is_available() else \"cpu\")\n",
    "\n",
    "weight_path = 'https://pl-bolts-weights.s3.us-east-2.amazonaws.com/swav/swav_imagenet/swav_imagenet.pth.tar'\n",
    "model = SwAV.load_from_checkpoint(weight_path, strict=True).model\n",
    "model.prototypes=nn.Linear(128, 15)\n",
    "\n",
    "# path to weight\n",
    "model.load_state_dict(torch.load('weight/resnet50_swav_chesttot_13'))\n",
    "model = model.to(device)"
   ]
  },
  {
   "cell_type": "code",
   "execution_count": 2,
   "id": "eastern-operator",
   "metadata": {},
   "outputs": [],
   "source": [
    "from torchvision.datasets import ImageFolder\n",
    "from torchvision.transforms import ToTensor, Resize, Compose, CenterCrop, Normalize\n",
    "\n",
    "image_size=(224, 224)\n",
    "crop_dim=224\n",
    "batch_size=128\n",
    "\n",
    "test_set = ImageFolder(\n",
    "    # path to dataset\n",
    "    root=\"/home/these/DataFast/Dataset/chest_x_ray/single_label/train/\",\n",
    "    transform=Compose([\n",
    "        Resize(image_size),\n",
    "        #CenterCrop(crop_dim),\n",
    "        ToTensor(),\n",
    "        Normalize(mean=[0.485, 0.456, 0.406], std=[0.229, 0.224, 0.225])\n",
    "    ])\n",
    ")"
   ]
  },
  {
   "cell_type": "code",
   "execution_count": 3,
   "id": "powerful-arizona",
   "metadata": {},
   "outputs": [
    {
     "name": "stderr",
     "output_type": "stream",
     "text": [
      "574it [07:09,  1.34it/s]\n"
     ]
    }
   ],
   "source": [
    "from torch.utils.data import DataLoader\n",
    "\n",
    "test = DataLoader(test_set, batch_size=batch_size, shuffle=True, num_workers=2)\n",
    "\n",
    "pred = []\n",
    "true = []\n",
    "\n",
    "for _, data in tqdm(enumerate(test)):\n",
    "    inputs, labels = data\n",
    "    inputs = inputs.to(device)\n",
    "    true.append(labels.numpy())\n",
    "    labels = labels.to(device)\n",
    "\n",
    "    # forward + backward + optimize\n",
    "    outputs = model(inputs)[1]\n",
    "    \n",
    "    pred.append(outputs.argmax(1).cpu().numpy())"
   ]
  },
  {
   "cell_type": "code",
   "execution_count": 4,
   "id": "worse-national",
   "metadata": {},
   "outputs": [],
   "source": [
    "import numpy as np\n",
    "pred = np.concatenate(pred)\n",
    "true = np.concatenate(true)"
   ]
  },
  {
   "cell_type": "code",
   "execution_count": 5,
   "id": "french-reminder",
   "metadata": {},
   "outputs": [],
   "source": [
    "from sklearn.metrics import confusion_matrix\n",
    "cf = confusion_matrix(true, pred)"
   ]
  },
  {
   "cell_type": "code",
   "execution_count": 27,
   "id": "occupational-track",
   "metadata": {},
   "outputs": [
    {
     "data": {
      "text/plain": [
       "<matplotlib.colorbar.Colorbar at 0x7fe5ba802160>"
      ]
     },
     "execution_count": 27,
     "metadata": {},
     "output_type": "execute_result"
    },
    {
     "data": {
      "image/png": "[encoded data removed]",
      "text/plain": [
       "<Figure size 432x288 with 2 Axes>"
      ]
     },
     "metadata": {
      "needs_background": "light"
     },
     "output_type": "display_data"
    }
   ],
   "source": [
    "import matplotlib.pyplot as plt \n",
    "\n",
    "plt.imshow(cf[:9, :9], plt.cm.Blues)\n",
    "plt.colorbar()"
   ]
  },
  {
   "cell_type": "code",
   "execution_count": 7,
   "id": "governing-chosen",
   "metadata": {},
   "outputs": [],
   "source": [
    "rps_classes = []\n",
    "id_classes = []\n",
    "\n",
    "for i in np.unique(true):\n",
    "    rps_classes.append(100*(true==i).sum()/len(true))\n",
    "    id_classes.append(i)"
   ]
  },
  {
   "cell_type": "code",
   "execution_count": 8,
   "id": "fourth-steel",
   "metadata": {},
   "outputs": [
    {
     "data": {
      "text/plain": [
       "<BarContainer object of 15 artists>"
      ]
     },
     "execution_count": 8,
     "metadata": {},
     "output_type": "execute_result"
    },
    {
     "data": {
      "image/png": "[encoded data removed]",
      "text/plain": [
       "<Figure size 432x288 with 1 Axes>"
      ]
     },
     "metadata": {
      "needs_background": "light"
     },
     "output_type": "display_data"
    }
   ],
   "source": [
    "#ps_classes[10] = 10\n",
    "plt.bar(np.arange(len(id_classes)), rps_classes)"
   ]
  }
 ],
 "metadata": {
  "kernelspec": {
   "display_name": "Python 3",
   "language": "python",
   "name": "python3"
  },
  "language_info": {
   "codemirror_mode": {
    "name": "ipython",
    "version": 3
   },
   "file_extension": ".py",
   "mimetype": "text/x-python",
   "name": "python",
   "nbconvert_exporter": "python",
   "pygments_lexer": "ipython3",
   "version": "3.8.5"
  }
 },
 "nbformat": 4,
 "nbformat_minor": 5
}
