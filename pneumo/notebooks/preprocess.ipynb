{
 "cells": [
  {
   "cell_type": "code",
   "execution_count": 1,
   "id": "88504f34",
   "metadata": {},
   "outputs": [],
   "source": [
    "%config Completer.use_jedi = False"
   ]
  },
  {
   "cell_type": "code",
   "execution_count": 15,
   "id": "121815ff",
   "metadata": {},
   "outputs": [],
   "source": [
    "import os\n",
    "import shutil\n",
    "import numpy as np\n",
    "import pandas as pd\n",
    "import matplotlib.pyplot as plt\n",
    "import random\n",
    "from collections import Counter\n",
    "import torch\n",
    "import shutil"
   ]
  },
  {
   "cell_type": "code",
   "execution_count": 22,
   "id": "7aefacd8",
   "metadata": {},
   "outputs": [],
   "source": [
    "data = pd.read_csv('/home/imagedpt/.cache/torch/mmf/data/chest_x_ray/Data_Entry_2017_v2020.csv', header=0)\n",
    "\n",
    "good = []\n",
    "\n",
    "for _, d in data.iterrows():\n",
    "    patho = d[1]\n",
    "    if '|' not in patho:\n",
    "        #good.append(d[0])\n",
    "        shutil.copyfile(os.path.join('/home/imagedpt/.cache/torch/mmf/data/chest_x_ray/images/images/', d[0]),\n",
    "                       os.path.join('/home/imagedpt/.cache/torch/mmf/data/chest_x_ray/images/one_label/', d[0]))"
   ]
  },
  {
   "cell_type": "code",
   "execution_count": 23,
   "id": "1c790a83",
   "metadata": {},
   "outputs": [
    {
     "data": {
      "text/plain": [
       "91324"
      ]
     },
     "execution_count": 23,
     "metadata": {},
     "output_type": "execute_result"
    }
   ],
   "source": [
    "len(os.listdir('/home/imagedpt/.cache/torch/mmf/data/chest_x_ray/images/one_label/'))"
   ]
  },
  {
   "cell_type": "code",
   "execution_count": 19,
   "id": "8d9529b8",
   "metadata": {},
   "outputs": [],
   "source": [
    "p = open('pneumo.txt')\n",
    "\n",
    "pneumo = []\n",
    "\n",
    "for l in p.readlines():\n",
    "    pneumo.append(l.split('\\n')[0])\n",
    "    \n",
    "p.close()"
   ]
  },
  {
   "cell_type": "code",
   "execution_count": 42,
   "id": "5b5e8563",
   "metadata": {},
   "outputs": [],
   "source": [
    "for f in os.listdir('/home/imagedpt/.cache/torch/mmf/data/chest_x_ray/images/'):\n",
    "    if 'image' in f:\n",
    "        fn = os.path.join('/home/imagedpt/.cache/torch/mmf/data/chest_x_ray/images/', f)\n",
    "        for ff in os.listdir(os.path.join(f, fn, 'images')):\n",
    "            if ff not in pneumo:\n",
    "                shutil.copyfile(os.path.join(f, fn, 'images', ff), os.path.join('/home/imagedpt/.cache/torch/mmf/data/pretext_medical/images', ff))"
   ]
  },
  {
   "cell_type": "code",
   "execution_count": 24,
   "id": "5d1d9293",
   "metadata": {},
   "outputs": [
    {
     "data": {
      "text/plain": [
       "110689"
      ]
     },
     "execution_count": 24,
     "metadata": {},
     "output_type": "execute_result"
    }
   ],
   "source": [
    "len(os.listdir('/home/imagedpt/.cache/torch/mmf/data/pretext_medical/images'))"
   ]
  },
  {
   "cell_type": "code",
   "execution_count": null,
   "id": "31afd896",
   "metadata": {},
   "outputs": [],
   "source": []
  }
 ],
 "metadata": {
  "kernelspec": {
   "display_name": "Python 3 (ipykernel)",
   "language": "python",
   "name": "python3"
  },
  "language_info": {
   "codemirror_mode": {
    "name": "ipython",
    "version": 3
   },
   "file_extension": ".py",
   "mimetype": "text/x-python",
   "name": "python",
   "nbconvert_exporter": "python",
   "pygments_lexer": "ipython3",
   "version": "3.8.10"
  }
 },
 "nbformat": 4,
 "nbformat_minor": 5
}
